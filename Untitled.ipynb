{
 "cells": [
  {
   "cell_type": "code",
   "execution_count": 25,
   "id": "5ff7b642",
   "metadata": {},
   "outputs": [
    {
     "name": "stdout",
     "output_type": "stream",
     "text": [
      "请输入长度(厘米或英寸)3\n",
      "请输入单位sd\n",
      "您输入的单位无效\n"
     ]
    }
   ],
   "source": [
    "#单位转换\n",
    "L = float(input('请输入长度(厘米或英寸)'));\n",
    "unit = input('请输入单位');\n",
    "if unit == 'inch' or unit =='英寸':\n",
    "    print ('%f 英寸= %f厘米' % (L,2.54*L))\n",
    "elif unit == 'cm' or unit == '厘米':\n",
    "    print ('%f厘米 = %f 英寸' % (L,0.3937008*L))\n",
    "else:\n",
    "        print('您输入的单位无效')"
   ]
  },
  {
   "cell_type": "code",
   "execution_count": 34,
   "id": "dafb9b3c",
   "metadata": {},
   "outputs": [
    {
     "name": "stdout",
     "output_type": "stream",
     "text": [
      "请输入您的分数80\n",
      "您的等级为B\n"
     ]
    }
   ],
   "source": [
    "#百分制转换为等级制\n",
    "score = float(input('请输入您的分数'));\n",
    "if score >= 90:\n",
    "    print('您的等级为A')\n",
    "elif score >= 80:\n",
    "    print('您的等级为B')\n",
    "elif score >= 70:\n",
    "    print('您的等级为C')\n",
    "elif score >= 60:\n",
    "    print('您的等级为D')\n",
    "else:\n",
    "    print('您的等级为E')"
   ]
  },
  {
   "cell_type": "code",
   "execution_count": 38,
   "id": "098adc7c",
   "metadata": {},
   "outputs": [
    {
     "name": "stdout",
     "output_type": "stream",
     "text": [
      "请输入第一条边长6\n",
      "请输入第二条边长1\n",
      "请输入第三条边长1\n",
      "您输入的边长无法组成三角形\n"
     ]
    }
   ],
   "source": [
    "#练习3：输入三条边长，如果能构成三角形就计算周长和面积(面积就算了)。\n",
    "a = float(input('请输入第一条边长'));\n",
    "b = float(input('请输入第二条边长'));\n",
    "c = float(input('请输入第三条边长'));\n",
    "if a + b > c and a + c >b and b + c > a:\n",
    "    print('该三角形的周长为%f' % (a+b+c ,))\n",
    "else:\n",
    "    print('您输入的边长无法组成三角形')"
   ]
  },
  {
   "cell_type": "code",
   "execution_count": null,
   "id": "8b62c0cd",
   "metadata": {},
   "outputs": [],
   "source": []
  },
  {
   "cell_type": "code",
   "execution_count": null,
   "id": "f071a8a9",
   "metadata": {},
   "outputs": [],
   "source": []
  }
 ],
 "metadata": {
  "kernelspec": {
   "display_name": "Python 3 (ipykernel)",
   "language": "python",
   "name": "python3"
  },
  "language_info": {
   "codemirror_mode": {
    "name": "ipython",
    "version": 3
   },
   "file_extension": ".py",
   "mimetype": "text/x-python",
   "name": "python",
   "nbconvert_exporter": "python",
   "pygments_lexer": "ipython3",
   "version": "3.9.7"
  }
 },
 "nbformat": 4,
 "nbformat_minor": 5
}
